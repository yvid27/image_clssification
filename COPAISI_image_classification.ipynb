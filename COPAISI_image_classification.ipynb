{
  "nbformat": 4,
  "nbformat_minor": 0,
  "metadata": {
    "colab": {
      "name": "COPAISI_image classification.ipynb",
      "provenance": [],
      "collapsed_sections": [],
      "toc_visible": true,
      "authorship_tag": "ABX9TyO+WUjggM5Plzxg8/0vheAd",
      "include_colab_link": true
    },
    "kernelspec": {
      "name": "python3",
      "display_name": "Python 3"
    },
    "accelerator": "GPU",
    "widgets": {
      "application/vnd.jupyter.widget-state+json": {
        "5b8ae365c97d421b8d3d3702081a5176": {
          "model_module": "@jupyter-widgets/controls",
          "model_name": "HBoxModel",
          "state": {
            "_view_name": "HBoxView",
            "_dom_classes": [],
            "_model_name": "HBoxModel",
            "_view_module": "@jupyter-widgets/controls",
            "_model_module_version": "1.5.0",
            "_view_count": null,
            "_view_module_version": "1.5.0",
            "box_style": "",
            "layout": "IPY_MODEL_6785a4030d2c4f51b44ae952e77dbbb2",
            "_model_module": "@jupyter-widgets/controls",
            "children": [
              "IPY_MODEL_5d189559cf7441ca9e861496ecd35cad",
              "IPY_MODEL_efa94061ece641dd9e18e0f36e16bac3"
            ]
          }
        },
        "6785a4030d2c4f51b44ae952e77dbbb2": {
          "model_module": "@jupyter-widgets/base",
          "model_name": "LayoutModel",
          "state": {
            "_view_name": "LayoutView",
            "grid_template_rows": null,
            "right": null,
            "justify_content": null,
            "_view_module": "@jupyter-widgets/base",
            "overflow": null,
            "_model_module_version": "1.2.0",
            "_view_count": null,
            "flex_flow": null,
            "width": null,
            "min_width": null,
            "border": null,
            "align_items": null,
            "bottom": null,
            "_model_module": "@jupyter-widgets/base",
            "top": null,
            "grid_column": null,
            "overflow_y": null,
            "overflow_x": null,
            "grid_auto_flow": null,
            "grid_area": null,
            "grid_template_columns": null,
            "flex": null,
            "_model_name": "LayoutModel",
            "justify_items": null,
            "grid_row": null,
            "max_height": null,
            "align_content": null,
            "visibility": null,
            "align_self": null,
            "height": null,
            "min_height": null,
            "padding": null,
            "grid_auto_rows": null,
            "grid_gap": null,
            "max_width": null,
            "order": null,
            "_view_module_version": "1.2.0",
            "grid_template_areas": null,
            "object_position": null,
            "object_fit": null,
            "grid_auto_columns": null,
            "margin": null,
            "display": null,
            "left": null
          }
        },
        "5d189559cf7441ca9e861496ecd35cad": {
          "model_module": "@jupyter-widgets/controls",
          "model_name": "FloatProgressModel",
          "state": {
            "_view_name": "ProgressView",
            "style": "IPY_MODEL_49aa0c272bcd4a79b8a588d6e192e482",
            "_dom_classes": [],
            "description": "100%",
            "_model_name": "FloatProgressModel",
            "bar_style": "success",
            "max": 244418560,
            "_view_module": "@jupyter-widgets/controls",
            "_model_module_version": "1.5.0",
            "value": 244418560,
            "_view_count": null,
            "_view_module_version": "1.5.0",
            "orientation": "horizontal",
            "min": 0,
            "description_tooltip": null,
            "_model_module": "@jupyter-widgets/controls",
            "layout": "IPY_MODEL_c8f5a36ae5b149178c3e714647ee2c44"
          }
        },
        "efa94061ece641dd9e18e0f36e16bac3": {
          "model_module": "@jupyter-widgets/controls",
          "model_name": "HTMLModel",
          "state": {
            "_view_name": "HTMLView",
            "style": "IPY_MODEL_515e9a592e014243b8731d3925190abb",
            "_dom_classes": [],
            "description": "",
            "_model_name": "HTMLModel",
            "placeholder": "​",
            "_view_module": "@jupyter-widgets/controls",
            "_model_module_version": "1.5.0",
            "value": " 233M/233M [00:01&lt;00:00, 176MB/s]",
            "_view_count": null,
            "_view_module_version": "1.5.0",
            "description_tooltip": null,
            "_model_module": "@jupyter-widgets/controls",
            "layout": "IPY_MODEL_692ca3733a914154a41f8ef7c1032c4f"
          }
        },
        "49aa0c272bcd4a79b8a588d6e192e482": {
          "model_module": "@jupyter-widgets/controls",
          "model_name": "ProgressStyleModel",
          "state": {
            "_view_name": "StyleView",
            "_model_name": "ProgressStyleModel",
            "description_width": "initial",
            "_view_module": "@jupyter-widgets/base",
            "_model_module_version": "1.5.0",
            "_view_count": null,
            "_view_module_version": "1.2.0",
            "bar_color": null,
            "_model_module": "@jupyter-widgets/controls"
          }
        },
        "c8f5a36ae5b149178c3e714647ee2c44": {
          "model_module": "@jupyter-widgets/base",
          "model_name": "LayoutModel",
          "state": {
            "_view_name": "LayoutView",
            "grid_template_rows": null,
            "right": null,
            "justify_content": null,
            "_view_module": "@jupyter-widgets/base",
            "overflow": null,
            "_model_module_version": "1.2.0",
            "_view_count": null,
            "flex_flow": null,
            "width": null,
            "min_width": null,
            "border": null,
            "align_items": null,
            "bottom": null,
            "_model_module": "@jupyter-widgets/base",
            "top": null,
            "grid_column": null,
            "overflow_y": null,
            "overflow_x": null,
            "grid_auto_flow": null,
            "grid_area": null,
            "grid_template_columns": null,
            "flex": null,
            "_model_name": "LayoutModel",
            "justify_items": null,
            "grid_row": null,
            "max_height": null,
            "align_content": null,
            "visibility": null,
            "align_self": null,
            "height": null,
            "min_height": null,
            "padding": null,
            "grid_auto_rows": null,
            "grid_gap": null,
            "max_width": null,
            "order": null,
            "_view_module_version": "1.2.0",
            "grid_template_areas": null,
            "object_position": null,
            "object_fit": null,
            "grid_auto_columns": null,
            "margin": null,
            "display": null,
            "left": null
          }
        },
        "515e9a592e014243b8731d3925190abb": {
          "model_module": "@jupyter-widgets/controls",
          "model_name": "DescriptionStyleModel",
          "state": {
            "_view_name": "StyleView",
            "_model_name": "DescriptionStyleModel",
            "description_width": "",
            "_view_module": "@jupyter-widgets/base",
            "_model_module_version": "1.5.0",
            "_view_count": null,
            "_view_module_version": "1.2.0",
            "_model_module": "@jupyter-widgets/controls"
          }
        },
        "692ca3733a914154a41f8ef7c1032c4f": {
          "model_module": "@jupyter-widgets/base",
          "model_name": "LayoutModel",
          "state": {
            "_view_name": "LayoutView",
            "grid_template_rows": null,
            "right": null,
            "justify_content": null,
            "_view_module": "@jupyter-widgets/base",
            "overflow": null,
            "_model_module_version": "1.2.0",
            "_view_count": null,
            "flex_flow": null,
            "width": null,
            "min_width": null,
            "border": null,
            "align_items": null,
            "bottom": null,
            "_model_module": "@jupyter-widgets/base",
            "top": null,
            "grid_column": null,
            "overflow_y": null,
            "overflow_x": null,
            "grid_auto_flow": null,
            "grid_area": null,
            "grid_template_columns": null,
            "flex": null,
            "_model_name": "LayoutModel",
            "justify_items": null,
            "grid_row": null,
            "max_height": null,
            "align_content": null,
            "visibility": null,
            "align_self": null,
            "height": null,
            "min_height": null,
            "padding": null,
            "grid_auto_rows": null,
            "grid_gap": null,
            "max_width": null,
            "order": null,
            "_view_module_version": "1.2.0",
            "grid_template_areas": null,
            "object_position": null,
            "object_fit": null,
            "grid_auto_columns": null,
            "margin": null,
            "display": null,
            "left": null
          }
        }
      }
    }
  },
  "cells": [
    {
      "cell_type": "markdown",
      "metadata": {
        "id": "view-in-github",
        "colab_type": "text"
      },
      "source": [
        "<a href=\"https://colab.research.google.com/github/yvid27/image_clssification/blob/main/COPAISI_image_classification.ipynb\" target=\"_parent\"><img src=\"https://colab.research.google.com/assets/colab-badge.svg\" alt=\"Open In Colab\"/></a>"
      ]
    },
    {
      "cell_type": "markdown",
      "metadata": {
        "id": "RwN3LCy_i1mg"
      },
      "source": [
        "#**CLASIFICACIÓN DE IMÁGENES: PLANTVILLAGE**\n",
        "11/12/2020\n",
        "\n",
        "---\n",
        "\n"
      ]
    },
    {
      "cell_type": "markdown",
      "metadata": {
        "id": "Se5dDNE8IBH9"
      },
      "source": [
        "##1. Cargar los paquetes a Utilizar"
      ]
    },
    {
      "cell_type": "code",
      "metadata": {
        "id": "8_vsMCUmiZeA"
      },
      "source": [
        "# Importar librerías\n",
        "import torch\n",
        "import numpy as np\n",
        "import torchvision\n",
        "from torch import nn\n",
        "from torch import optim\n",
        "import torch.nn.functional as F\n",
        "from collections import OrderedDict\n",
        "from torch.optim import lr_scheduler\n",
        "from torchvision import datasets, transforms, models, utils\n",
        "from torch.utils.data.sampler import SubsetRandomSampler\n",
        "import matplotlib.pyplot as plt\n",
        "import PIL\n",
        "from PIL import Image\n",
        "import json"
      ],
      "execution_count": null,
      "outputs": []
    },
    {
      "cell_type": "code",
      "metadata": {
        "id": "bJwyQMCZeSKN",
        "colab": {
          "base_uri": "https://localhost:8080/"
        },
        "outputId": "3b63ae81-e83d-45b8-989e-406cd1c13b29"
      },
      "source": [
        "# comprobar el uso de GPU\n",
        "gpu_mode = torch.cuda.is_available()\n",
        "print(gpu_mode)"
      ],
      "execution_count": null,
      "outputs": [
        {
          "output_type": "stream",
          "text": [
            "True\n"
          ],
          "name": "stdout"
        }
      ]
    },
    {
      "cell_type": "code",
      "metadata": {
        "id": "uISqElqEef87"
      },
      "source": [
        "device = torch.device(\"cuda:0\" if torch.cuda.is_available() else \"cpu\")"
      ],
      "execution_count": null,
      "outputs": []
    },
    {
      "cell_type": "markdown",
      "metadata": {
        "id": "x_NdBGAv1KBs"
      },
      "source": [
        "##2. Importar Datos"
      ]
    },
    {
      "cell_type": "markdown",
      "metadata": {
        "id": "T2_QUZf-1NSQ"
      },
      "source": [
        "###Importar datos de Google Drive:"
      ]
    },
    {
      "cell_type": "code",
      "metadata": {
        "colab": {
          "base_uri": "https://localhost:8080/"
        },
        "id": "0Iib5yYBelOA",
        "outputId": "645cba1b-f336-46f0-d559-7c96ff2827e8"
      },
      "source": [
        "# Descargar el dataset\n",
        "!gdown https://drive.google.com/uc?id=1ptGfLXbAUrwbkiiLT2vl8r1dsYonjtkv\n",
        "!unzip -q PlantVillage.zip"
      ],
      "execution_count": null,
      "outputs": [
        {
          "output_type": "stream",
          "text": [
            "Downloading...\n",
            "From: https://drive.google.com/uc?id=1ptGfLXbAUrwbkiiLT2vl8r1dsYonjtkv\n",
            "To: /content/PlantVillage.zip\n",
            "174MB [00:01, 126MB/s]\n"
          ],
          "name": "stdout"
        }
      ]
    },
    {
      "cell_type": "markdown",
      "metadata": {
        "id": "TRerdlwI1SrD"
      },
      "source": [
        "###Acceso a los datos\n",
        "El dataset está dividido en dos partes: training & validation"
      ]
    },
    {
      "cell_type": "code",
      "metadata": {
        "id": "wZwnbwqUenIy"
      },
      "source": [
        "data_dir = 'PlantVillage'\n",
        "train_dir = data_dir + '/train'\n",
        "valid_dir = data_dir + '/val'\n",
        "dirs = {'train': train_dir,\n",
        " 'val': valid_dir}\n",
        "use_gpu = torch.cuda.is_available()"
      ],
      "execution_count": null,
      "outputs": []
    },
    {
      "cell_type": "code",
      "metadata": {
        "id": "Zn9kFdFMeqwz",
        "colab": {
          "base_uri": "https://localhost:8080/"
        },
        "outputId": "2ecb6697-8f45-44b4-98ec-46bd15fc20e3"
      },
      "source": [
        "data_root = {\n",
        " 'train': train_dir,\n",
        " 'val': valid_dir\n",
        "}\n",
        "# Check\n",
        "print(data_root['train'])"
      ],
      "execution_count": null,
      "outputs": [
        {
          "output_type": "stream",
          "text": [
            "PlantVillage/train\n"
          ],
          "name": "stdout"
        }
      ]
    },
    {
      "cell_type": "code",
      "metadata": {
        "id": "OafIur47etfg",
        "colab": {
          "base_uri": "https://localhost:8080/"
        },
        "outputId": "c58bff0d-8ad4-45ab-aaf2-c68325bde16c"
      },
      "source": [
        "# Definimos las transformaciones para el entrenamiento y la validación\n",
        "#Set batch size\n",
        "batch_size = 16\n",
        "data_transforms = {\n",
        "  'train': transforms.Compose([\n",
        "      transforms.Resize(256),\n",
        "      transforms.RandomResizedCrop(224),\n",
        "      transforms.ToTensor(),\n",
        "      transforms.Normalize([0.485, 0.456, 0.406], [0.229, 0.224, 0.225])\n",
        "  ]),\n",
        "  'val': transforms.Compose([\n",
        "      transforms.Resize(256),\n",
        "      transforms.CenterCrop(224),\n",
        "      transforms.ToTensor(),\n",
        "      transforms.Normalize([0.485, 0.456, 0.406], [0.229, 0.224, 0.225])\n",
        "  ]),\n",
        "}\n",
        "# Cargar los datasets con ImageFolder\n",
        "image_datasets = {x: datasets.ImageFolder(data_root[x],data_transforms[x]) for x in ['train','val']}\n",
        "\n",
        "# Definimos los dataloaders usando los dataset\n",
        "dataloaders = { x: torch.utils.data.DataLoader(image_datasets[x],batch_size=batch_size,shuffle=True) for\n",
        "x in ['train','val'] }\n",
        "\n",
        "dataset_sizes = { x: len(image_datasets[x]) for x in ['train','val'] }\n",
        "class_names = image_datasets['train'].classes\n",
        "class_to_idx = image_datasets['train'].class_to_idx\n",
        "device = torch.device(\"cuda:0\" if torch.cuda.is_available() else \"cpu\")\n",
        "\n",
        "print(class_names)"
      ],
      "execution_count": null,
      "outputs": [
        {
          "output_type": "stream",
          "text": [
            "['Apple___Apple_scab', 'Apple___Black_rot', 'Apple___Cedar_apple_rust', 'Apple___healthy', 'Corn_(maize)___Cercospora_leaf_spot', 'Corn_(maize)___Common_rust_', 'Corn_(maize)___Northern_Leaf_Blight', 'Corn_(maize)___healthy', 'Grape___Black_rot', 'Grape___Esca_(Black_Measles)', 'Grape___Leaf_blight_(Isariopsis_Leaf_Spot)', 'Grape___healthy']\n"
          ],
          "name": "stdout"
        }
      ]
    },
    {
      "cell_type": "markdown",
      "metadata": {
        "id": "80Oi0C5v1gle"
      },
      "source": [
        "###Etiquetado\n",
        "Utilizamos el archivo cat_to_name.json, para cargar la asignación de etiquetas de categoría a nombre"
      ]
    },
    {
      "cell_type": "code",
      "metadata": {
        "id": "z84D6vChe1U0"
      },
      "source": [
        "with open('PlantVillage/cat_to_name.json', 'r') as f:\n",
        " cat_to_name = json.load(f)"
      ],
      "execution_count": null,
      "outputs": []
    },
    {
      "cell_type": "code",
      "metadata": {
        "colab": {
          "base_uri": "https://localhost:8080/"
        },
        "id": "VBBvdbCUfXY7",
        "outputId": "699decd8-29a0-499f-fcc2-8ec57b50d7ce"
      },
      "source": [
        "# Run this to test your data loader\n",
        "images, labels = next(iter(dataloaders[ 'train']))\n",
        "rand_idx = np.random.randint( len(images))\n",
        "# print(rand_idx)\n",
        "print(\"label: {}, class: {}, name: {}\" .format(labels[rand_idx].item(),\n",
        " class_names[labels[rand_idx].item()],\n",
        " cat_to_name[class_names[labels[rand_idx].item()]]))"
      ],
      "execution_count": null,
      "outputs": [
        {
          "output_type": "stream",
          "text": [
            "label: 7, class: Corn_(maize)___healthy, name: Corn_(maize)___healthy\n"
          ],
          "name": "stdout"
        }
      ]
    },
    {
      "cell_type": "code",
      "metadata": {
        "colab": {
          "base_uri": "https://localhost:8080/",
          "height": 303
        },
        "id": "n97A69s6fZlm",
        "outputId": "f5b297d2-a698-47b9-a231-618c0b4dd531"
      },
      "source": [
        "# Visualizamos una imagen random\n",
        "images, labels = next(iter(dataloaders[\"train\"]))\n",
        "print(len(images[0,2]))\n",
        "plt.imshow(images[0,0])"
      ],
      "execution_count": null,
      "outputs": [
        {
          "output_type": "stream",
          "text": [
            "224\n"
          ],
          "name": "stdout"
        },
        {
          "output_type": "execute_result",
          "data": {
            "text/plain": [
              "<matplotlib.image.AxesImage at 0x7f5b1c2c49b0>"
            ]
          },
          "metadata": {
            "tags": []
          },
          "execution_count": 14
        },
        {
          "output_type": "display_data",
          "data": {
            "image/png": "[encoded data removed]",
            "text/plain": [
              "<Figure size 432x288 with 1 Axes>"
            ]
          },
          "metadata": {
            "tags": [],
            "needs_background": "light"
          }
        }
      ]
    },
    {
      "cell_type": "markdown",
      "metadata": {
        "id": "4xaNo6vktIRZ"
      },
      "source": [
        "# 2. Construcción del clasificador"
      ]
    },
    {
      "cell_type": "code",
      "metadata": {
        "id": "BntGQ8cJfb8j",
        "colab": {
          "base_uri": "https://localhost:8080/",
          "height": 562,
          "referenced_widgets": [
            "5b8ae365c97d421b8d3d3702081a5176",
            "6785a4030d2c4f51b44ae952e77dbbb2",
            "5d189559cf7441ca9e861496ecd35cad",
            "efa94061ece641dd9e18e0f36e16bac3",
            "49aa0c272bcd4a79b8a588d6e192e482",
            "c8f5a36ae5b149178c3e714647ee2c44",
            "515e9a592e014243b8731d3925190abb",
            "692ca3733a914154a41f8ef7c1032c4f"
          ]
        },
        "outputId": "78dc4963-f9a4-4718-ecef-35150b084914"
      },
      "source": [
        "# 1. Cargar la red pre entrenada Alexnet\n",
        "model = models.alexnet(pretrained=True)\n",
        "# Ver la arquitectura del modelo:\n",
        "print(model)"
      ],
      "execution_count": null,
      "outputs": [
        {
          "output_type": "stream",
          "text": [
            "Downloading: \"https://download.pytorch.org/models/alexnet-owt-4df8aa71.pth\" to /root/.cache/torch/hub/checkpoints/alexnet-owt-4df8aa71.pth\n"
          ],
          "name": "stderr"
        },
        {
          "output_type": "display_data",
          "data": {
            "application/vnd.jupyter.widget-view+json": {
              "model_id": "5b8ae365c97d421b8d3d3702081a5176",
              "version_minor": 0,
              "version_major": 2
            },
            "text/plain": [
              "HBox(children=(FloatProgress(value=0.0, max=244418560.0), HTML(value='')))"
            ]
          },
          "metadata": {
            "tags": []
          }
        },
        {
          "output_type": "stream",
          "text": [
            "\n",
            "AlexNet(\n",
            "  (features): Sequential(\n",
            "    (0): Conv2d(3, 64, kernel_size=(11, 11), stride=(4, 4), padding=(2, 2))\n",
            "    (1): ReLU(inplace=True)\n",
            "    (2): MaxPool2d(kernel_size=3, stride=2, padding=0, dilation=1, ceil_mode=False)\n",
            "    (3): Conv2d(64, 192, kernel_size=(5, 5), stride=(1, 1), padding=(2, 2))\n",
            "    (4): ReLU(inplace=True)\n",
            "    (5): MaxPool2d(kernel_size=3, stride=2, padding=0, dilation=1, ceil_mode=False)\n",
            "    (6): Conv2d(192, 384, kernel_size=(3, 3), stride=(1, 1), padding=(1, 1))\n",
            "    (7): ReLU(inplace=True)\n",
            "    (8): Conv2d(384, 256, kernel_size=(3, 3), stride=(1, 1), padding=(1, 1))\n",
            "    (9): ReLU(inplace=True)\n",
            "    (10): Conv2d(256, 256, kernel_size=(3, 3), stride=(1, 1), padding=(1, 1))\n",
            "    (11): ReLU(inplace=True)\n",
            "    (12): MaxPool2d(kernel_size=3, stride=2, padding=0, dilation=1, ceil_mode=False)\n",
            "  )\n",
            "  (avgpool): AdaptiveAvgPool2d(output_size=(6, 6))\n",
            "  (classifier): Sequential(\n",
            "    (0): Dropout(p=0.5, inplace=False)\n",
            "    (1): Linear(in_features=9216, out_features=4096, bias=True)\n",
            "    (2): ReLU(inplace=True)\n",
            "    (3): Dropout(p=0.5, inplace=False)\n",
            "    (4): Linear(in_features=4096, out_features=4096, bias=True)\n",
            "    (5): ReLU(inplace=True)\n",
            "    (6): Linear(in_features=4096, out_features=1000, bias=True)\n",
            "  )\n",
            ")\n"
          ],
          "name": "stdout"
        }
      ]
    },
    {
      "cell_type": "code",
      "metadata": {
        "id": "avUo3OgqfehX",
        "colab": {
          "base_uri": "https://localhost:8080/"
        },
        "outputId": "3367742f-591c-44fe-b2b5-7fe7b3882e5a"
      },
      "source": [
        "# 2. Define una nueva red, utilizando la función de activación ReLU\n",
        "classifier = nn.Sequential(OrderedDict([\n",
        "            ('dp1', nn.Dropout(0.5)),\n",
        "            ('fc1', nn.Linear(9216, 4096)),\n",
        "            ('relu', nn.ReLU()),\n",
        "            ('dp2', nn.Dropout(0.5)),\n",
        "            ('fc2', nn.Linear(4096, 4096)),\n",
        "            ('relu', nn.ReLU()),\n",
        "            ('fc2', nn.Linear(4096, 12)),\n",
        "            ('output', nn.LogSoftmax(dim=1))\n",
        "            ]))\n",
        "\n",
        "device = \"cuda:0\"\n",
        "\n",
        "model = model.to(device)\n",
        "\n",
        "# We put our defined classifier into the network we loaded\n",
        "model.classifier = classifier\n",
        "\n",
        "# Freeze the learning of first layers by deactivating the grads\n",
        "for param in model.parameters():\n",
        "  param.requires_grad = False\n",
        "for param in model.classifier.parameters():\n",
        "  param.requires_grad = True\n",
        "print(classifier)"
      ],
      "execution_count": null,
      "outputs": [
        {
          "output_type": "stream",
          "text": [
            "Sequential(\n",
            "  (dp1): Dropout(p=0.5, inplace=False)\n",
            "  (fc1): Linear(in_features=9216, out_features=4096, bias=True)\n",
            "  (relu): ReLU()\n",
            "  (dp2): Dropout(p=0.5, inplace=False)\n",
            "  (fc2): Linear(in_features=4096, out_features=12, bias=True)\n",
            "  (output): LogSoftmax(dim=1)\n",
            ")\n"
          ],
          "name": "stdout"
        }
      ]
    },
    {
      "cell_type": "markdown",
      "metadata": {
        "id": "zlawPo8kvBJ-"
      },
      "source": [
        "Definición de criteria, optimizer y scheduler"
      ]
    },
    {
      "cell_type": "code",
      "metadata": {
        "id": "kUMQFVXQfg-L"
      },
      "source": [
        "# NLLLoss because our output is LogSoftmax\n",
        "criteria = nn.NLLLoss().to(device)\n",
        "# Adam optimizer with a learning rate\n",
        "optimizer = optim.Adam(model.parameters(), lr=0.001)\n",
        "# Decay LR by a factor of 0.1 every 5 epochs\n",
        "scheduler = optim.lr_scheduler.StepLR(optimizer, step_size=3, gamma=0.8)"
      ],
      "execution_count": null,
      "outputs": []
    },
    {
      "cell_type": "markdown",
      "metadata": {
        "id": "wavkHeaevE2_"
      },
      "source": [
        "###Entrenamiento del modelo"
      ]
    },
    {
      "cell_type": "code",
      "metadata": {
        "id": "UQXT2KF3fifR"
      },
      "source": [
        "#Function to train the model\n",
        "def train_model(model, criteria, optimizer, scheduler, num_epochs=10):\n",
        "    \n",
        "    for epoch in range(num_epochs):\n",
        "        print(\"Epoch {}/{}\".format(epoch, num_epochs - 1))\n",
        "        print(\"-\" * 10)\n",
        " \n",
        "        # Each epoch has a training and validation phase\n",
        "        for phase in ['train', 'val']:\n",
        "            if phase == 'train':\n",
        "                #scheduler.step()\n",
        "                model.train()  # Set model to training mode\n",
        "            else:\n",
        "                model.eval()   # Set model to evaluate mode\n",
        " \n",
        "            running_loss = 0.0\n",
        "            running_corrects = 0\n",
        "            \n",
        "            # Iterate over data.\n",
        "            for inputs, labels in dataloaders[phase]:\n",
        "                inputs = inputs.to(device)\n",
        "                labels = labels.to(device)\n",
        " \n",
        "                # zero the parameter gradients\n",
        "                optimizer.zero_grad()\n",
        " \n",
        "                # forward\n",
        "                # track history if only in train\n",
        "                with torch.set_grad_enabled(phase == 'train'):\n",
        "                    outputs = model(inputs)\n",
        "                    _, preds = torch.max(outputs, 1)\n",
        "                    loss = criteria(outputs, labels)\n",
        " \n",
        "                    # backward + optimize only if in training phase\n",
        "                    if phase == 'train':\n",
        "                        #sched.step()\n",
        "                        loss.backward()\n",
        "                        \n",
        "                        optimizer.step()\n",
        " \n",
        "                # statistics\n",
        "                running_loss += loss.item() * inputs.size(0)\n",
        "                running_corrects += torch.sum(preds == labels.data)\n",
        "            \n",
        "            epoch_loss = running_loss / dataset_sizes[phase]\n",
        "            epoch_acc = running_corrects.double() / dataset_sizes[phase]\n",
        " \n",
        "            print('{} Loss: {:.4f} Acc: {:.4f}'.format(\n",
        "                phase, epoch_loss, epoch_acc))\n",
        "            \n",
        "        print()\n",
        " \n",
        "    return model"
      ],
      "execution_count": null,
      "outputs": []
    },
    {
      "cell_type": "markdown",
      "metadata": {
        "id": "5mD2pLtmvMAc"
      },
      "source": [
        "###Entrenamos"
      ]
    },
    {
      "cell_type": "code",
      "metadata": {
        "id": "GX9GbKgJfk0m",
        "colab": {
          "base_uri": "https://localhost:8080/"
        },
        "outputId": "07dd59c3-5adb-447c-a722-6c750afb27a8"
      },
      "source": [
        "num_epochs = 10\n",
        "model.to(device)\n",
        "print(\"Comienzo del entrenamiento\")\n",
        "model_ft = train_model(model, criteria, optimizer, scheduler, num_epochs)\n",
        "print(\"Entrenado\")"
      ],
      "execution_count": null,
      "outputs": [
        {
          "output_type": "stream",
          "text": [
            "Comienzo del entrenamiento\n",
            "Epoch 0/9\n",
            "----------\n",
            "train Loss: 0.8423 Acc: 0.7873\n",
            "val Loss: 0.2339 Acc: 0.9310\n",
            "\n",
            "Epoch 1/9\n",
            "----------\n",
            "train Loss: 0.4872 Acc: 0.8529\n",
            "val Loss: 0.2231 Acc: 0.9355\n",
            "\n",
            "Epoch 2/9\n",
            "----------\n",
            "train Loss: 0.4666 Acc: 0.8605\n",
            "val Loss: 0.1495 Acc: 0.9527\n",
            "\n",
            "Epoch 3/9\n",
            "----------\n",
            "train Loss: 0.4303 Acc: 0.8687\n",
            "val Loss: 0.2604 Acc: 0.9310\n",
            "\n",
            "Epoch 4/9\n",
            "----------\n",
            "train Loss: 0.4432 Acc: 0.8684\n",
            "val Loss: 0.1613 Acc: 0.9518\n",
            "\n",
            "Epoch 5/9\n",
            "----------\n",
            "train Loss: 0.3899 Acc: 0.8814\n",
            "val Loss: 0.1852 Acc: 0.9522\n",
            "\n",
            "Epoch 6/9\n",
            "----------\n",
            "train Loss: 0.3961 Acc: 0.8845\n",
            "val Loss: 0.1108 Acc: 0.9644\n",
            "\n",
            "Epoch 7/9\n",
            "----------\n",
            "train Loss: 0.3623 Acc: 0.8887\n",
            "val Loss: 0.1920 Acc: 0.9527\n",
            "\n",
            "Epoch 8/9\n",
            "----------\n",
            "train Loss: 0.3616 Acc: 0.8865\n",
            "val Loss: 0.1252 Acc: 0.9639\n",
            "\n",
            "Epoch 9/9\n",
            "----------\n",
            "train Loss: 0.3820 Acc: 0.8914\n",
            "val Loss: 0.1490 Acc: 0.9531\n",
            "\n",
            "Entrenado\n"
          ],
          "name": "stdout"
        }
      ]
    },
    {
      "cell_type": "code",
      "metadata": {
        "id": "fzkfm4OGigZZ"
      },
      "source": [
        ""
      ],
      "execution_count": null,
      "outputs": []
    }
  ]
}